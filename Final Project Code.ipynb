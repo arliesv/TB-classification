{
 "cells": [
  {
   "cell_type": "code",
   "execution_count": 1,
   "id": "c3f6d4af-a80b-495f-8b33-4f0c491475f1",
   "metadata": {},
   "outputs": [],
   "source": [
    "import os\n",
    "import numpy as np\n",
    "import pandas as pd\n",
    "from PIL import Image\n",
    "import matplotlib.pyplot as plt"
   ]
  },
  {
   "cell_type": "code",
   "execution_count": 2,
   "id": "45ce69ac-73b5-4dcd-b497-afc0e4930277",
   "metadata": {},
   "outputs": [],
   "source": [
    "# get data\n",
    "data = os.path.join(os.getcwd(), 'TB_Chest_Radiography_Database')\n",
    "normal_dt = os.path.join(data, 'Normal')\n",
    "tuber_dt = os.path.join(data, 'Tuberculosis')"
   ]
  },
  {
   "cell_type": "code",
   "execution_count": 3,
   "id": "80e335da-531a-420f-9f4a-67d82b9066b1",
   "metadata": {},
   "outputs": [],
   "source": [
    "def preprocessing(X, y):\n",
    "    images = []\n",
    "    labels = []\n",
    "\n",
    "    for file in os.listdir(X):\n",
    "        image_path = os.path.join(X, file)\n",
    "        image = Image.open(image_path)\n",
    "        image = image.convert(\"RGB\")\n",
    "        image = image.resize((256, 256))\n",
    "        image = np.array(image) / 255.0 # normalize pixels\n",
    "\n",
    "        images.append(image)\n",
    "        labels.append(y)\n",
    "    return images, labels"
   ]
  },
  {
   "cell_type": "code",
   "execution_count": 4,
   "id": "c3069808-df16-4d1d-8e16-d86816e6523f",
   "metadata": {},
   "outputs": [],
   "source": [
    "normal_imgs, normal_labels = preprocessing(normal_dt, y=0)\n",
    "tuber_imgs, tuber_labels = preprocessing(tuber_dt, y=1)\n",
    "\n",
    "images = normal_imgs + tuber_imgs\n",
    "labels = normal_labels + tuber_labels\n",
    "\n",
    "images = np.array(images)\n",
    "labels = np.array(labels)"
   ]
  },
  {
   "cell_type": "code",
   "execution_count": 5,
   "id": "fd9dcb9e-9943-44f9-bfc0-cb319130f783",
   "metadata": {},
   "outputs": [
    {
     "name": "stdout",
     "output_type": "stream",
     "text": [
      "(3360, 256, 256, 3)\n"
     ]
    }
   ],
   "source": [
    "# split data into training and testing\n",
    "from sklearn.model_selection import train_test_split\n",
    "X_train, X_test, y_train, y_test = train_test_split(images, labels, test_size=0.2, random_state=42, stratify=labels)\n",
    "\n",
    "print(X_train.shape)"
   ]
  },
  {
   "cell_type": "markdown",
   "id": "ce04acc4-1664-4ff7-a7ab-167a9f953579",
   "metadata": {},
   "source": [
    "# 1. SGD"
   ]
  },
  {
   "cell_type": "markdown",
   "id": "c18debfc-5a77-4d51-a34b-833e2fa885a6",
   "metadata": {},
   "source": [
    "## 1.1 Train and Evaluate"
   ]
  },
  {
   "cell_type": "code",
   "execution_count": 6,
   "id": "5c473a9c-7a1a-4177-bff7-f910e1864ca5",
   "metadata": {},
   "outputs": [
    {
     "data": {
      "text/html": [
       "<style>#sk-container-id-1 {color: black;background-color: white;}#sk-container-id-1 pre{padding: 0;}#sk-container-id-1 div.sk-toggleable {background-color: white;}#sk-container-id-1 label.sk-toggleable__label {cursor: pointer;display: block;width: 100%;margin-bottom: 0;padding: 0.3em;box-sizing: border-box;text-align: center;}#sk-container-id-1 label.sk-toggleable__label-arrow:before {content: \"▸\";float: left;margin-right: 0.25em;color: #696969;}#sk-container-id-1 label.sk-toggleable__label-arrow:hover:before {color: black;}#sk-container-id-1 div.sk-estimator:hover label.sk-toggleable__label-arrow:before {color: black;}#sk-container-id-1 div.sk-toggleable__content {max-height: 0;max-width: 0;overflow: hidden;text-align: left;background-color: #f0f8ff;}#sk-container-id-1 div.sk-toggleable__content pre {margin: 0.2em;color: black;border-radius: 0.25em;background-color: #f0f8ff;}#sk-container-id-1 input.sk-toggleable__control:checked~div.sk-toggleable__content {max-height: 200px;max-width: 100%;overflow: auto;}#sk-container-id-1 input.sk-toggleable__control:checked~label.sk-toggleable__label-arrow:before {content: \"▾\";}#sk-container-id-1 div.sk-estimator input.sk-toggleable__control:checked~label.sk-toggleable__label {background-color: #d4ebff;}#sk-container-id-1 div.sk-label input.sk-toggleable__control:checked~label.sk-toggleable__label {background-color: #d4ebff;}#sk-container-id-1 input.sk-hidden--visually {border: 0;clip: rect(1px 1px 1px 1px);clip: rect(1px, 1px, 1px, 1px);height: 1px;margin: -1px;overflow: hidden;padding: 0;position: absolute;width: 1px;}#sk-container-id-1 div.sk-estimator {font-family: monospace;background-color: #f0f8ff;border: 1px dotted black;border-radius: 0.25em;box-sizing: border-box;margin-bottom: 0.5em;}#sk-container-id-1 div.sk-estimator:hover {background-color: #d4ebff;}#sk-container-id-1 div.sk-parallel-item::after {content: \"\";width: 100%;border-bottom: 1px solid gray;flex-grow: 1;}#sk-container-id-1 div.sk-label:hover label.sk-toggleable__label {background-color: #d4ebff;}#sk-container-id-1 div.sk-serial::before {content: \"\";position: absolute;border-left: 1px solid gray;box-sizing: border-box;top: 0;bottom: 0;left: 50%;z-index: 0;}#sk-container-id-1 div.sk-serial {display: flex;flex-direction: column;align-items: center;background-color: white;padding-right: 0.2em;padding-left: 0.2em;position: relative;}#sk-container-id-1 div.sk-item {position: relative;z-index: 1;}#sk-container-id-1 div.sk-parallel {display: flex;align-items: stretch;justify-content: center;background-color: white;position: relative;}#sk-container-id-1 div.sk-item::before, #sk-container-id-1 div.sk-parallel-item::before {content: \"\";position: absolute;border-left: 1px solid gray;box-sizing: border-box;top: 0;bottom: 0;left: 50%;z-index: -1;}#sk-container-id-1 div.sk-parallel-item {display: flex;flex-direction: column;z-index: 1;position: relative;background-color: white;}#sk-container-id-1 div.sk-parallel-item:first-child::after {align-self: flex-end;width: 50%;}#sk-container-id-1 div.sk-parallel-item:last-child::after {align-self: flex-start;width: 50%;}#sk-container-id-1 div.sk-parallel-item:only-child::after {width: 0;}#sk-container-id-1 div.sk-dashed-wrapped {border: 1px dashed gray;margin: 0 0.4em 0.5em 0.4em;box-sizing: border-box;padding-bottom: 0.4em;background-color: white;}#sk-container-id-1 div.sk-label label {font-family: monospace;font-weight: bold;display: inline-block;line-height: 1.2em;}#sk-container-id-1 div.sk-label-container {text-align: center;}#sk-container-id-1 div.sk-container {/* jupyter's `normalize.less` sets `[hidden] { display: none; }` but bootstrap.min.css set `[hidden] { display: none !important; }` so we also need the `!important` here to be able to override the default hidden behavior on the sphinx rendered scikit-learn.org. See: https://github.com/scikit-learn/scikit-learn/issues/21755 */display: inline-block !important;position: relative;}#sk-container-id-1 div.sk-text-repr-fallback {display: none;}</style><div id=\"sk-container-id-1\" class=\"sk-top-container\"><div class=\"sk-text-repr-fallback\"><pre>SGDClassifier(random_state=42)</pre><b>In a Jupyter environment, please rerun this cell to show the HTML representation or trust the notebook. <br />On GitHub, the HTML representation is unable to render, please try loading this page with nbviewer.org.</b></div><div class=\"sk-container\" hidden><div class=\"sk-item\"><div class=\"sk-estimator sk-toggleable\"><input class=\"sk-toggleable__control sk-hidden--visually\" id=\"sk-estimator-id-1\" type=\"checkbox\" checked><label for=\"sk-estimator-id-1\" class=\"sk-toggleable__label sk-toggleable__label-arrow\">SGDClassifier</label><div class=\"sk-toggleable__content\"><pre>SGDClassifier(random_state=42)</pre></div></div></div></div></div>"
      ],
      "text/plain": [
       "SGDClassifier(random_state=42)"
      ]
     },
     "execution_count": 6,
     "metadata": {},
     "output_type": "execute_result"
    }
   ],
   "source": [
    "# training SGD\n",
    "from sklearn.linear_model import SGDClassifier\n",
    "\n",
    "X_train_sgd, X_test_sgd = X_train.reshape((len(X_train), 256*256*3)), X_test.reshape((len(X_test), 256*256*3))\n",
    "sgd_clf = SGDClassifier(random_state=42)\n",
    "sgd_clf.fit(X_train_sgd, y_train)"
   ]
  },
  {
   "cell_type": "code",
   "execution_count": 7,
   "id": "ad0527ee-5725-48af-8931-d8eaa94c4047",
   "metadata": {},
   "outputs": [
    {
     "name": "stdout",
     "output_type": "stream",
     "text": [
      "[[2754   46]\n",
      " [  53  507]]\n"
     ]
    }
   ],
   "source": [
    "from sklearn.model_selection import cross_val_predict\n",
    "from sklearn.metrics import confusion_matrix\n",
    "\n",
    "y_train_pred = cross_val_predict(sgd_clf, X_train_sgd, y_train, cv=3)\n",
    "print(confusion_matrix(y_train, y_train_pred))"
   ]
  },
  {
   "cell_type": "code",
   "execution_count": 8,
   "id": "bfd6ae74-c3df-49ed-93bd-4293ef00751e",
   "metadata": {},
   "outputs": [
    {
     "data": {
      "image/png": "[encoded data removed]",
      "text/plain": [
       "<Figure size 640x480 with 1 Axes>"
      ]
     },
     "metadata": {},
     "output_type": "display_data"
    }
   ],
   "source": [
    "#PR curve\n",
    "from sklearn.metrics import precision_recall_curve\n",
    "\n",
    "y_scores = cross_val_predict(sgd_clf, X_train_sgd, y_train, cv=3, method=\"decision_function\")\n",
    "precisions, recalls, thresholds = precision_recall_curve(y_train, y_scores)\n",
    "\n",
    "plt.plot(recalls, precisions, \"k\", label=\"Precision/Recall Curve\", linewidth=2)\n",
    "plt.xlabel(\"Recall\")\n",
    "plt.ylabel(\"Precision\")\n",
    "plt.axis([0, 1, 0, 1])\n",
    "plt.grid(True)\n",
    "plt.legend()\n",
    "plt.show()"
   ]
  },
  {
   "cell_type": "code",
   "execution_count": 99,
   "id": "1b516abf-ce50-45b5-9b08-e3559a6129fb",
   "metadata": {},
   "outputs": [
    {
     "name": "stdout",
     "output_type": "stream",
     "text": [
      "Precision Score: 0.9626865671641791\n",
      "Recall Score: 0.9214285714285714\n",
      "AUC Score: 0.9571428571428571\n",
      "Accuracy: 0.9809523809523809\n"
     ]
    }
   ],
   "source": [
    "# measuring on test data without optimization\n",
    "from sklearn.metrics import accuracy_score\n",
    "\n",
    "y_pred_sgd = sgd_clf.predict(X_test_sgd)\n",
    "print(f\"Precision Score: {precision_score(y_test, y_pred_sgd)}\")\n",
    "print(f\"Recall Score: {recall_score(y_test, y_pred_sgd)}\")\n",
    "print(f\"AUC Score: {roc_auc_score(y_test, y_pred_sgd)}\")\n",
    "print(f\"Accuracy: {accuracy_score(y_test, y_pred_sgd)}\")"
   ]
  },
  {
   "cell_type": "markdown",
   "id": "32434be7-3f6b-4df0-a9da-1a9804791d22",
   "metadata": {},
   "source": [
    "## 1.2 Fine Tuning"
   ]
  },
  {
   "cell_type": "code",
   "execution_count": 9,
   "id": "4e932be0-d77a-4859-9dec-b61758583103",
   "metadata": {},
   "outputs": [
    {
     "data": {
      "text/html": [
       "<style>#sk-container-id-2 {color: black;background-color: white;}#sk-container-id-2 pre{padding: 0;}#sk-container-id-2 div.sk-toggleable {background-color: white;}#sk-container-id-2 label.sk-toggleable__label {cursor: pointer;display: block;width: 100%;margin-bottom: 0;padding: 0.3em;box-sizing: border-box;text-align: center;}#sk-container-id-2 label.sk-toggleable__label-arrow:before {content: \"▸\";float: left;margin-right: 0.25em;color: #696969;}#sk-container-id-2 label.sk-toggleable__label-arrow:hover:before {color: black;}#sk-container-id-2 div.sk-estimator:hover label.sk-toggleable__label-arrow:before {color: black;}#sk-container-id-2 div.sk-toggleable__content {max-height: 0;max-width: 0;overflow: hidden;text-align: left;background-color: #f0f8ff;}#sk-container-id-2 div.sk-toggleable__content pre {margin: 0.2em;color: black;border-radius: 0.25em;background-color: #f0f8ff;}#sk-container-id-2 input.sk-toggleable__control:checked~div.sk-toggleable__content {max-height: 200px;max-width: 100%;overflow: auto;}#sk-container-id-2 input.sk-toggleable__control:checked~label.sk-toggleable__label-arrow:before {content: \"▾\";}#sk-container-id-2 div.sk-estimator input.sk-toggleable__control:checked~label.sk-toggleable__label {background-color: #d4ebff;}#sk-container-id-2 div.sk-label input.sk-toggleable__control:checked~label.sk-toggleable__label {background-color: #d4ebff;}#sk-container-id-2 input.sk-hidden--visually {border: 0;clip: rect(1px 1px 1px 1px);clip: rect(1px, 1px, 1px, 1px);height: 1px;margin: -1px;overflow: hidden;padding: 0;position: absolute;width: 1px;}#sk-container-id-2 div.sk-estimator {font-family: monospace;background-color: #f0f8ff;border: 1px dotted black;border-radius: 0.25em;box-sizing: border-box;margin-bottom: 0.5em;}#sk-container-id-2 div.sk-estimator:hover {background-color: #d4ebff;}#sk-container-id-2 div.sk-parallel-item::after {content: \"\";width: 100%;border-bottom: 1px solid gray;flex-grow: 1;}#sk-container-id-2 div.sk-label:hover label.sk-toggleable__label {background-color: #d4ebff;}#sk-container-id-2 div.sk-serial::before {content: \"\";position: absolute;border-left: 1px solid gray;box-sizing: border-box;top: 0;bottom: 0;left: 50%;z-index: 0;}#sk-container-id-2 div.sk-serial {display: flex;flex-direction: column;align-items: center;background-color: white;padding-right: 0.2em;padding-left: 0.2em;position: relative;}#sk-container-id-2 div.sk-item {position: relative;z-index: 1;}#sk-container-id-2 div.sk-parallel {display: flex;align-items: stretch;justify-content: center;background-color: white;position: relative;}#sk-container-id-2 div.sk-item::before, #sk-container-id-2 div.sk-parallel-item::before {content: \"\";position: absolute;border-left: 1px solid gray;box-sizing: border-box;top: 0;bottom: 0;left: 50%;z-index: -1;}#sk-container-id-2 div.sk-parallel-item {display: flex;flex-direction: column;z-index: 1;position: relative;background-color: white;}#sk-container-id-2 div.sk-parallel-item:first-child::after {align-self: flex-end;width: 50%;}#sk-container-id-2 div.sk-parallel-item:last-child::after {align-self: flex-start;width: 50%;}#sk-container-id-2 div.sk-parallel-item:only-child::after {width: 0;}#sk-container-id-2 div.sk-dashed-wrapped {border: 1px dashed gray;margin: 0 0.4em 0.5em 0.4em;box-sizing: border-box;padding-bottom: 0.4em;background-color: white;}#sk-container-id-2 div.sk-label label {font-family: monospace;font-weight: bold;display: inline-block;line-height: 1.2em;}#sk-container-id-2 div.sk-label-container {text-align: center;}#sk-container-id-2 div.sk-container {/* jupyter's `normalize.less` sets `[hidden] { display: none; }` but bootstrap.min.css set `[hidden] { display: none !important; }` so we also need the `!important` here to be able to override the default hidden behavior on the sphinx rendered scikit-learn.org. See: https://github.com/scikit-learn/scikit-learn/issues/21755 */display: inline-block !important;position: relative;}#sk-container-id-2 div.sk-text-repr-fallback {display: none;}</style><div id=\"sk-container-id-2\" class=\"sk-top-container\"><div class=\"sk-text-repr-fallback\"><pre>GridSearchCV(cv=5, estimator=SGDClassifier(random_state=42),\n",
       "             param_grid={&#x27;alpha&#x27;: array([0.0001, 0.0011, 0.0021, 0.0031, 0.0041, 0.0051, 0.0061, 0.0071,\n",
       "       0.0081, 0.0091])})</pre><b>In a Jupyter environment, please rerun this cell to show the HTML representation or trust the notebook. <br />On GitHub, the HTML representation is unable to render, please try loading this page with nbviewer.org.</b></div><div class=\"sk-container\" hidden><div class=\"sk-item sk-dashed-wrapped\"><div class=\"sk-label-container\"><div class=\"sk-label sk-toggleable\"><input class=\"sk-toggleable__control sk-hidden--visually\" id=\"sk-estimator-id-2\" type=\"checkbox\" ><label for=\"sk-estimator-id-2\" class=\"sk-toggleable__label sk-toggleable__label-arrow\">GridSearchCV</label><div class=\"sk-toggleable__content\"><pre>GridSearchCV(cv=5, estimator=SGDClassifier(random_state=42),\n",
       "             param_grid={&#x27;alpha&#x27;: array([0.0001, 0.0011, 0.0021, 0.0031, 0.0041, 0.0051, 0.0061, 0.0071,\n",
       "       0.0081, 0.0091])})</pre></div></div></div><div class=\"sk-parallel\"><div class=\"sk-parallel-item\"><div class=\"sk-item\"><div class=\"sk-label-container\"><div class=\"sk-label sk-toggleable\"><input class=\"sk-toggleable__control sk-hidden--visually\" id=\"sk-estimator-id-3\" type=\"checkbox\" ><label for=\"sk-estimator-id-3\" class=\"sk-toggleable__label sk-toggleable__label-arrow\">estimator: SGDClassifier</label><div class=\"sk-toggleable__content\"><pre>SGDClassifier(random_state=42)</pre></div></div></div><div class=\"sk-serial\"><div class=\"sk-item\"><div class=\"sk-estimator sk-toggleable\"><input class=\"sk-toggleable__control sk-hidden--visually\" id=\"sk-estimator-id-4\" type=\"checkbox\" ><label for=\"sk-estimator-id-4\" class=\"sk-toggleable__label sk-toggleable__label-arrow\">SGDClassifier</label><div class=\"sk-toggleable__content\"><pre>SGDClassifier(random_state=42)</pre></div></div></div></div></div></div></div></div></div></div>"
      ],
      "text/plain": [
       "GridSearchCV(cv=5, estimator=SGDClassifier(random_state=42),\n",
       "             param_grid={'alpha': array([0.0001, 0.0011, 0.0021, 0.0031, 0.0041, 0.0051, 0.0061, 0.0071,\n",
       "       0.0081, 0.0091])})"
      ]
     },
     "execution_count": 9,
     "metadata": {},
     "output_type": "execute_result"
    }
   ],
   "source": [
    "from sklearn.model_selection import GridSearchCV\n",
    "\n",
    "param_grid = {\n",
    "    'alpha': np.arange(0.0001, 0.01, 0.001),\n",
    "}\n",
    "sgd_clf_best = SGDClassifier(random_state=42)\n",
    "grid_search = GridSearchCV(sgd_clf_best, param_grid, cv=5)\n",
    "grid_search.fit(X_train_sgd, y_train)"
   ]
  },
  {
   "cell_type": "code",
   "execution_count": 10,
   "id": "20c54910-89ee-4f4b-9342-c1b5868eb292",
   "metadata": {},
   "outputs": [
    {
     "name": "stdout",
     "output_type": "stream",
     "text": [
      "Best Parameters: {'alpha': 0.0051}\n"
     ]
    }
   ],
   "source": [
    "print(\"Best Parameters:\", grid_search.best_params_)\n",
    "best_sgd_clf = grid_search.best_estimator_"
   ]
  },
  {
   "cell_type": "code",
   "execution_count": 11,
   "id": "0bd5780f-510c-4db9-92ea-cad8443dfaca",
   "metadata": {},
   "outputs": [
    {
     "name": "stdout",
     "output_type": "stream",
     "text": [
      "[[2759   41]\n",
      " [  65  495]]\n"
     ]
    }
   ],
   "source": [
    "y_train_pred_best = cross_val_predict(best_sgd_clf, X_train_sgd, y_train, cv=3)\n",
    "print(confusion_matrix(y_train, y_train_pred_best))"
   ]
  },
  {
   "cell_type": "code",
   "execution_count": 12,
   "id": "a1deb7a1-d223-4cd1-a3de-c75be78dfee5",
   "metadata": {},
   "outputs": [
    {
     "data": {
      "image/png": "[encoded data removed]",
      "text/plain": [
       "<Figure size 640x480 with 1 Axes>"
      ]
     },
     "metadata": {},
     "output_type": "display_data"
    }
   ],
   "source": [
    "#PR curve\n",
    "y_scores_best = cross_val_predict(best_sgd_clf, X_train_sgd, y_train, cv=3, method=\"decision_function\")\n",
    "precisions, recalls, thresholds = precision_recall_curve(y_train, y_scores_best)\n",
    "\n",
    "plt.plot(recalls, precisions, \"k\", label=\"Precision/Recall Curve\", linewidth=2)\n",
    "plt.xlabel(\"Recall\")\n",
    "plt.ylabel(\"Precision\")\n",
    "plt.axis([0, 1, 0, 1])\n",
    "plt.grid(True)\n",
    "plt.legend()\n",
    "plt.show()"
   ]
  },
  {
   "cell_type": "code",
   "execution_count": 100,
   "id": "3ec36545-e9e9-4cf6-8167-34fb4efae94b",
   "metadata": {},
   "outputs": [
    {
     "name": "stdout",
     "output_type": "stream",
     "text": [
      "0.969047619047619\n"
     ]
    }
   ],
   "source": [
    "# evaluate on test set\n",
    "test_score = best_sgd_clf.score(X_test_sgd, y_test)\n",
    "print(test_score)"
   ]
  },
  {
   "cell_type": "code",
   "execution_count": 14,
   "id": "8ebc28f1-1829-4d39-bae4-c2d2fcb2abee",
   "metadata": {},
   "outputs": [],
   "source": [
    "y_pred_test_best_sgd = best_sgd_clf.predict(X_test_sgd)"
   ]
  },
  {
   "cell_type": "markdown",
   "id": "c66978e7-91a3-4594-ae69-512210b0f33c",
   "metadata": {},
   "source": [
    "# 2. RandomForestClassifier"
   ]
  },
  {
   "cell_type": "markdown",
   "id": "9cc79022-b05c-4b50-965e-624558f0010b",
   "metadata": {},
   "source": [
    "## 2.1 Training and Evaluating"
   ]
  },
  {
   "cell_type": "code",
   "execution_count": 15,
   "id": "45518196-2cda-4ae7-bafd-b7c889af2916",
   "metadata": {},
   "outputs": [
    {
     "data": {
      "image/png": "[encoded data removed]",
      "text/plain": [
       "<Figure size 640x480 with 1 Axes>"
      ]
     },
     "metadata": {},
     "output_type": "display_data"
    }
   ],
   "source": [
    "from sklearn.ensemble import RandomForestClassifier\n",
    "\n",
    "forest_clf = RandomForestClassifier(random_state=42)\n",
    "\n",
    "y_probs_forest = cross_val_predict(forest_clf, X_train_sgd, y_train, cv=3, method=\"predict_proba\")\n",
    "y_scores_forest = y_probs_forest[:, 1]\n",
    "\n",
    "precisions_forest, recalls_forest, thresholds_forest = precision_recall_curve(y_train, y_scores_forest)\n",
    "\n",
    "# plotting PR curve\n",
    "plt.plot(recalls_forest, precisions_forest, \"b\", label=\"Random Forest\", linewidth=2)\n",
    "plt.grid(True)\n",
    "plt.axis([0, 1, 0, 1])\n",
    "plt.legend(loc=\"lower right\")\n",
    "plt.xlabel(\"Recall\")\n",
    "plt.ylabel(\"Precision\")\n",
    "plt.show()"
   ]
  },
  {
   "cell_type": "code",
   "execution_count": 16,
   "id": "994ad897-3b3d-42f9-8116-9401f84c5645",
   "metadata": {},
   "outputs": [
    {
     "name": "stdout",
     "output_type": "stream",
     "text": [
      "Precision Score: 0.9287020109689214\n",
      "Recall Score: 0.9071428571428571\n",
      "AUC Score: 0.9926431760204082\n"
     ]
    }
   ],
   "source": [
    "# measuring effectiveness\n",
    "from sklearn.metrics import roc_curve, roc_auc_score, recall_score, precision_score\n",
    "\n",
    "y_train_pred_forest = (y_probs_forest[:, 1] >= 0.45)\n",
    "print(f\"Precision Score: {precision_score(y_train, y_train_pred_forest)}\")\n",
    "print(f\"Recall Score: {recall_score(y_train, y_train_pred_forest)}\")\n",
    "print(f\"AUC Score: {roc_auc_score(y_train, y_scores_forest)}\")"
   ]
  },
  {
   "cell_type": "code",
   "execution_count": 17,
   "id": "13b415ce-1e97-4822-92b6-ae189ee2edcb",
   "metadata": {},
   "outputs": [],
   "source": [
    "# Scores are good enough to avoid fine tuning (takes too long for minimal improvement)"
   ]
  },
  {
   "cell_type": "markdown",
   "id": "2f2dc617-9f26-4c70-9b5c-50c5bd6bed50",
   "metadata": {},
   "source": [
    "## 2.2 Evaluating on Test set"
   ]
  },
  {
   "cell_type": "code",
   "execution_count": 18,
   "id": "2f2438c5-ef87-4da1-a04c-8e2660598df9",
   "metadata": {},
   "outputs": [
    {
     "data": {
      "image/png": "[encoded data removed]",
      "text/plain": [
       "<Figure size 640x480 with 1 Axes>"
      ]
     },
     "metadata": {},
     "output_type": "display_data"
    }
   ],
   "source": [
    "y_probs_forest_test = cross_val_predict(forest_clf, X_test_sgd, y_test, cv=3, method=\"predict_proba\")\n",
    "y_scores_forest_test = y_probs_forest_test[:, 1]\n",
    "\n",
    "precisions_forest_test, recalls_forest_test, thresholds_forest_test = precision_recall_curve(y_test, y_scores_forest_test)\n",
    "\n",
    "# plotting PR curve\n",
    "plt.plot(recalls_forest_test, precisions_forest_test, \"b\", label=\"Random Forest\", linewidth=2)\n",
    "plt.grid(True)\n",
    "plt.axis([0, 1, 0, 1])\n",
    "plt.legend(loc=\"lower right\")\n",
    "plt.xlabel(\"Recall\")\n",
    "plt.ylabel(\"Precision\")\n",
    "plt.show()"
   ]
  },
  {
   "cell_type": "code",
   "execution_count": 19,
   "id": "5f3e9ca1-4412-442c-a752-64e0ed950228",
   "metadata": {},
   "outputs": [
    {
     "name": "stdout",
     "output_type": "stream",
     "text": [
      "Precision Score: 0.9508196721311475\n",
      "Recall Score: 0.8285714285714286\n",
      "AUC Score: 0.9791581632653062\n"
     ]
    }
   ],
   "source": [
    "# measuring effectiveness\n",
    "y_test_pred_forest = (y_probs_forest_test[:, 1] >= 0.45)\n",
    "print(f\"Precision Score: {precision_score(y_test, y_test_pred_forest)}\")\n",
    "print(f\"Recall Score: {recall_score(y_test, y_test_pred_forest)}\")\n",
    "print(f\"AUC Score: {roc_auc_score(y_test, y_scores_forest_test)}\")"
   ]
  },
  {
   "cell_type": "code",
   "execution_count": 98,
   "id": "eacd7901-b543-4d39-9a5d-c701fa68b8d2",
   "metadata": {},
   "outputs": [
    {
     "name": "stdout",
     "output_type": "stream",
     "text": [
      "Accuracy: 0.9642857142857143\n"
     ]
    }
   ],
   "source": [
    "print(f\"Accuracy: {accuracy_score(y_test, y_test_pred_forest)}\")"
   ]
  },
  {
   "cell_type": "markdown",
   "id": "8f43a349-b84b-405d-9ff1-6bdd693bdd44",
   "metadata": {},
   "source": [
    "## 2.3 Recap of Evaluation"
   ]
  },
  {
   "cell_type": "code",
   "execution_count": 21,
   "id": "4ca7715c-87e5-4e60-b18d-f8864f861f91",
   "metadata": {},
   "outputs": [
    {
     "name": "stdout",
     "output_type": "stream",
     "text": [
      "Precision Score of SGD_clf: 0.875\n",
      "Recall Score of SGD_clf: 0.95\n",
      "AUC Score of SGD_clf: 0.9614285714285714\n"
     ]
    }
   ],
   "source": [
    "# Recap so far:\n",
    "print(f\"Precision Score of SGD_clf: {precision_score(y_test, y_pred_test_best_sgd)}\")\n",
    "print(f\"Recall Score of SGD_clf: {recall_score(y_test, y_pred_test_best_sgd)}\")\n",
    "print(f\"AUC Score of SGD_clf: {roc_auc_score(y_test, y_pred_test_best_sgd)}\")"
   ]
  },
  {
   "cell_type": "code",
   "execution_count": 22,
   "id": "3557faad-0a1b-4293-8cde-3d559db7ddad",
   "metadata": {},
   "outputs": [
    {
     "name": "stdout",
     "output_type": "stream",
     "text": [
      "Precision Score of RFC: 0.9508196721311475\n",
      "Recall Score of RFC: 0.8285714285714286\n",
      "AUC Score of RFC: 0.9791581632653062\n"
     ]
    }
   ],
   "source": [
    "y_test_pred_forest = (y_probs_forest_test[:, 1] >= 0.45)\n",
    "print(f\"Precision Score of RFC: {precision_score(y_test, y_test_pred_forest)}\")\n",
    "print(f\"Recall Score of RFC: {recall_score(y_test, y_test_pred_forest)}\")\n",
    "print(f\"AUC Score of RFC: {roc_auc_score(y_test, y_scores_forest_test)}\")"
   ]
  },
  {
   "cell_type": "markdown",
   "id": "80e09571-191c-4f32-bd96-d2e13d025828",
   "metadata": {},
   "source": [
    "# 3. LinearSVC"
   ]
  },
  {
   "cell_type": "markdown",
   "id": "fbf23eaf-e072-43ee-a714-dffa0216dc5e",
   "metadata": {},
   "source": [
    "## 3.1 Training and Evaluating LinearSVC"
   ]
  },
  {
   "cell_type": "code",
   "execution_count": 30,
   "id": "23d63e10-41cb-44fc-a1e2-46e5b3e16a8f",
   "metadata": {},
   "outputs": [
    {
     "data": {
      "text/html": [
       "<style>#sk-container-id-6 {color: black;background-color: white;}#sk-container-id-6 pre{padding: 0;}#sk-container-id-6 div.sk-toggleable {background-color: white;}#sk-container-id-6 label.sk-toggleable__label {cursor: pointer;display: block;width: 100%;margin-bottom: 0;padding: 0.3em;box-sizing: border-box;text-align: center;}#sk-container-id-6 label.sk-toggleable__label-arrow:before {content: \"▸\";float: left;margin-right: 0.25em;color: #696969;}#sk-container-id-6 label.sk-toggleable__label-arrow:hover:before {color: black;}#sk-container-id-6 div.sk-estimator:hover label.sk-toggleable__label-arrow:before {color: black;}#sk-container-id-6 div.sk-toggleable__content {max-height: 0;max-width: 0;overflow: hidden;text-align: left;background-color: #f0f8ff;}#sk-container-id-6 div.sk-toggleable__content pre {margin: 0.2em;color: black;border-radius: 0.25em;background-color: #f0f8ff;}#sk-container-id-6 input.sk-toggleable__control:checked~div.sk-toggleable__content {max-height: 200px;max-width: 100%;overflow: auto;}#sk-container-id-6 input.sk-toggleable__control:checked~label.sk-toggleable__label-arrow:before {content: \"▾\";}#sk-container-id-6 div.sk-estimator input.sk-toggleable__control:checked~label.sk-toggleable__label {background-color: #d4ebff;}#sk-container-id-6 div.sk-label input.sk-toggleable__control:checked~label.sk-toggleable__label {background-color: #d4ebff;}#sk-container-id-6 input.sk-hidden--visually {border: 0;clip: rect(1px 1px 1px 1px);clip: rect(1px, 1px, 1px, 1px);height: 1px;margin: -1px;overflow: hidden;padding: 0;position: absolute;width: 1px;}#sk-container-id-6 div.sk-estimator {font-family: monospace;background-color: #f0f8ff;border: 1px dotted black;border-radius: 0.25em;box-sizing: border-box;margin-bottom: 0.5em;}#sk-container-id-6 div.sk-estimator:hover {background-color: #d4ebff;}#sk-container-id-6 div.sk-parallel-item::after {content: \"\";width: 100%;border-bottom: 1px solid gray;flex-grow: 1;}#sk-container-id-6 div.sk-label:hover label.sk-toggleable__label {background-color: #d4ebff;}#sk-container-id-6 div.sk-serial::before {content: \"\";position: absolute;border-left: 1px solid gray;box-sizing: border-box;top: 0;bottom: 0;left: 50%;z-index: 0;}#sk-container-id-6 div.sk-serial {display: flex;flex-direction: column;align-items: center;background-color: white;padding-right: 0.2em;padding-left: 0.2em;position: relative;}#sk-container-id-6 div.sk-item {position: relative;z-index: 1;}#sk-container-id-6 div.sk-parallel {display: flex;align-items: stretch;justify-content: center;background-color: white;position: relative;}#sk-container-id-6 div.sk-item::before, #sk-container-id-6 div.sk-parallel-item::before {content: \"\";position: absolute;border-left: 1px solid gray;box-sizing: border-box;top: 0;bottom: 0;left: 50%;z-index: -1;}#sk-container-id-6 div.sk-parallel-item {display: flex;flex-direction: column;z-index: 1;position: relative;background-color: white;}#sk-container-id-6 div.sk-parallel-item:first-child::after {align-self: flex-end;width: 50%;}#sk-container-id-6 div.sk-parallel-item:last-child::after {align-self: flex-start;width: 50%;}#sk-container-id-6 div.sk-parallel-item:only-child::after {width: 0;}#sk-container-id-6 div.sk-dashed-wrapped {border: 1px dashed gray;margin: 0 0.4em 0.5em 0.4em;box-sizing: border-box;padding-bottom: 0.4em;background-color: white;}#sk-container-id-6 div.sk-label label {font-family: monospace;font-weight: bold;display: inline-block;line-height: 1.2em;}#sk-container-id-6 div.sk-label-container {text-align: center;}#sk-container-id-6 div.sk-container {/* jupyter's `normalize.less` sets `[hidden] { display: none; }` but bootstrap.min.css set `[hidden] { display: none !important; }` so we also need the `!important` here to be able to override the default hidden behavior on the sphinx rendered scikit-learn.org. See: https://github.com/scikit-learn/scikit-learn/issues/21755 */display: inline-block !important;position: relative;}#sk-container-id-6 div.sk-text-repr-fallback {display: none;}</style><div id=\"sk-container-id-6\" class=\"sk-top-container\"><div class=\"sk-text-repr-fallback\"><pre>Pipeline(steps=[(&#x27;standardscaler&#x27;, StandardScaler()),\n",
       "                (&#x27;linearsvc&#x27;, LinearSVC(max_iter=10000, random_state=42))])</pre><b>In a Jupyter environment, please rerun this cell to show the HTML representation or trust the notebook. <br />On GitHub, the HTML representation is unable to render, please try loading this page with nbviewer.org.</b></div><div class=\"sk-container\" hidden><div class=\"sk-item sk-dashed-wrapped\"><div class=\"sk-label-container\"><div class=\"sk-label sk-toggleable\"><input class=\"sk-toggleable__control sk-hidden--visually\" id=\"sk-estimator-id-10\" type=\"checkbox\" ><label for=\"sk-estimator-id-10\" class=\"sk-toggleable__label sk-toggleable__label-arrow\">Pipeline</label><div class=\"sk-toggleable__content\"><pre>Pipeline(steps=[(&#x27;standardscaler&#x27;, StandardScaler()),\n",
       "                (&#x27;linearsvc&#x27;, LinearSVC(max_iter=10000, random_state=42))])</pre></div></div></div><div class=\"sk-serial\"><div class=\"sk-item\"><div class=\"sk-estimator sk-toggleable\"><input class=\"sk-toggleable__control sk-hidden--visually\" id=\"sk-estimator-id-11\" type=\"checkbox\" ><label for=\"sk-estimator-id-11\" class=\"sk-toggleable__label sk-toggleable__label-arrow\">StandardScaler</label><div class=\"sk-toggleable__content\"><pre>StandardScaler()</pre></div></div></div><div class=\"sk-item\"><div class=\"sk-estimator sk-toggleable\"><input class=\"sk-toggleable__control sk-hidden--visually\" id=\"sk-estimator-id-12\" type=\"checkbox\" ><label for=\"sk-estimator-id-12\" class=\"sk-toggleable__label sk-toggleable__label-arrow\">LinearSVC</label><div class=\"sk-toggleable__content\"><pre>LinearSVC(max_iter=10000, random_state=42)</pre></div></div></div></div></div></div></div>"
      ],
      "text/plain": [
       "Pipeline(steps=[('standardscaler', StandardScaler()),\n",
       "                ('linearsvc', LinearSVC(max_iter=10000, random_state=42))])"
      ]
     },
     "execution_count": 30,
     "metadata": {},
     "output_type": "execute_result"
    }
   ],
   "source": [
    "from sklearn.pipeline import make_pipeline\n",
    "from sklearn.preprocessing import StandardScaler\n",
    "from sklearn.svm import LinearSVC\n",
    "\n",
    "lin_svc = make_pipeline(StandardScaler(), LinearSVC(dual=True, random_state=42, max_iter=10000))\n",
    "lin_svc.fit(X_train_sgd, y_train)"
   ]
  },
  {
   "cell_type": "code",
   "execution_count": 39,
   "id": "01a25a42-07d6-49ac-a953-49c1281da2da",
   "metadata": {},
   "outputs": [
    {
     "name": "stdout",
     "output_type": "stream",
     "text": [
      "Precision Score: 0.9230769230769231\n",
      "Recall Score: 0.9428571428571428\n",
      "AUC Score: 0.9635714285714286\n",
      "Accuracy: 0.9607142857142857\n"
     ]
    }
   ],
   "source": [
    "from sklearn.model_selection import cross_val_score\n",
    "\n",
    "y_scores_svc = lin_svc.predict(X_test_sgd)\n",
    "print(f\"Precision Score: {precision_score(y_test, y_scores_svc)}\")\n",
    "print(f\"Recall Score: {recall_score(y_test, y_scores_svc)}\")\n",
    "print(f\"AUC Score: {roc_auc_score(y_test, y_scores_svc)}\")\n",
    "print(f\"Accuracy: {cross_val_score(lin_svc, X_test_sgd, y_test).mean()}\")"
   ]
  },
  {
   "cell_type": "markdown",
   "id": "91c42b98-38b1-4fd5-b22b-0c1f2b62daa1",
   "metadata": {},
   "source": [
    "## 3.2 SVC"
   ]
  },
  {
   "cell_type": "code",
   "execution_count": 41,
   "id": "c9316dbb-b707-4c5f-bd06-fb75814b5cac",
   "metadata": {},
   "outputs": [
    {
     "data": {
      "text/plain": [
       "0.9839285714285715"
      ]
     },
     "execution_count": 41,
     "metadata": {},
     "output_type": "execute_result"
    }
   ],
   "source": [
    "# build regular SVC and compare\n",
    "from sklearn.svm import SVC\n",
    "svm_clf = make_pipeline(StandardScaler(), SVC(random_state=42))\n",
    "cross_val_score(svm_clf, X_train_sgd, y_train).mean()"
   ]
  },
  {
   "cell_type": "code",
   "execution_count": 44,
   "id": "b0859d14-4f99-4a5e-8dcd-46fe2db95132",
   "metadata": {},
   "outputs": [
    {
     "data": {
      "text/html": [
       "<style>#sk-container-id-7 {color: black;background-color: white;}#sk-container-id-7 pre{padding: 0;}#sk-container-id-7 div.sk-toggleable {background-color: white;}#sk-container-id-7 label.sk-toggleable__label {cursor: pointer;display: block;width: 100%;margin-bottom: 0;padding: 0.3em;box-sizing: border-box;text-align: center;}#sk-container-id-7 label.sk-toggleable__label-arrow:before {content: \"▸\";float: left;margin-right: 0.25em;color: #696969;}#sk-container-id-7 label.sk-toggleable__label-arrow:hover:before {color: black;}#sk-container-id-7 div.sk-estimator:hover label.sk-toggleable__label-arrow:before {color: black;}#sk-container-id-7 div.sk-toggleable__content {max-height: 0;max-width: 0;overflow: hidden;text-align: left;background-color: #f0f8ff;}#sk-container-id-7 div.sk-toggleable__content pre {margin: 0.2em;color: black;border-radius: 0.25em;background-color: #f0f8ff;}#sk-container-id-7 input.sk-toggleable__control:checked~div.sk-toggleable__content {max-height: 200px;max-width: 100%;overflow: auto;}#sk-container-id-7 input.sk-toggleable__control:checked~label.sk-toggleable__label-arrow:before {content: \"▾\";}#sk-container-id-7 div.sk-estimator input.sk-toggleable__control:checked~label.sk-toggleable__label {background-color: #d4ebff;}#sk-container-id-7 div.sk-label input.sk-toggleable__control:checked~label.sk-toggleable__label {background-color: #d4ebff;}#sk-container-id-7 input.sk-hidden--visually {border: 0;clip: rect(1px 1px 1px 1px);clip: rect(1px, 1px, 1px, 1px);height: 1px;margin: -1px;overflow: hidden;padding: 0;position: absolute;width: 1px;}#sk-container-id-7 div.sk-estimator {font-family: monospace;background-color: #f0f8ff;border: 1px dotted black;border-radius: 0.25em;box-sizing: border-box;margin-bottom: 0.5em;}#sk-container-id-7 div.sk-estimator:hover {background-color: #d4ebff;}#sk-container-id-7 div.sk-parallel-item::after {content: \"\";width: 100%;border-bottom: 1px solid gray;flex-grow: 1;}#sk-container-id-7 div.sk-label:hover label.sk-toggleable__label {background-color: #d4ebff;}#sk-container-id-7 div.sk-serial::before {content: \"\";position: absolute;border-left: 1px solid gray;box-sizing: border-box;top: 0;bottom: 0;left: 50%;z-index: 0;}#sk-container-id-7 div.sk-serial {display: flex;flex-direction: column;align-items: center;background-color: white;padding-right: 0.2em;padding-left: 0.2em;position: relative;}#sk-container-id-7 div.sk-item {position: relative;z-index: 1;}#sk-container-id-7 div.sk-parallel {display: flex;align-items: stretch;justify-content: center;background-color: white;position: relative;}#sk-container-id-7 div.sk-item::before, #sk-container-id-7 div.sk-parallel-item::before {content: \"\";position: absolute;border-left: 1px solid gray;box-sizing: border-box;top: 0;bottom: 0;left: 50%;z-index: -1;}#sk-container-id-7 div.sk-parallel-item {display: flex;flex-direction: column;z-index: 1;position: relative;background-color: white;}#sk-container-id-7 div.sk-parallel-item:first-child::after {align-self: flex-end;width: 50%;}#sk-container-id-7 div.sk-parallel-item:last-child::after {align-self: flex-start;width: 50%;}#sk-container-id-7 div.sk-parallel-item:only-child::after {width: 0;}#sk-container-id-7 div.sk-dashed-wrapped {border: 1px dashed gray;margin: 0 0.4em 0.5em 0.4em;box-sizing: border-box;padding-bottom: 0.4em;background-color: white;}#sk-container-id-7 div.sk-label label {font-family: monospace;font-weight: bold;display: inline-block;line-height: 1.2em;}#sk-container-id-7 div.sk-label-container {text-align: center;}#sk-container-id-7 div.sk-container {/* jupyter's `normalize.less` sets `[hidden] { display: none; }` but bootstrap.min.css set `[hidden] { display: none !important; }` so we also need the `!important` here to be able to override the default hidden behavior on the sphinx rendered scikit-learn.org. See: https://github.com/scikit-learn/scikit-learn/issues/21755 */display: inline-block !important;position: relative;}#sk-container-id-7 div.sk-text-repr-fallback {display: none;}</style><div id=\"sk-container-id-7\" class=\"sk-top-container\"><div class=\"sk-text-repr-fallback\"><pre>Pipeline(steps=[(&#x27;standardscaler&#x27;, StandardScaler()),\n",
       "                (&#x27;svc&#x27;, SVC(random_state=42))])</pre><b>In a Jupyter environment, please rerun this cell to show the HTML representation or trust the notebook. <br />On GitHub, the HTML representation is unable to render, please try loading this page with nbviewer.org.</b></div><div class=\"sk-container\" hidden><div class=\"sk-item sk-dashed-wrapped\"><div class=\"sk-label-container\"><div class=\"sk-label sk-toggleable\"><input class=\"sk-toggleable__control sk-hidden--visually\" id=\"sk-estimator-id-13\" type=\"checkbox\" ><label for=\"sk-estimator-id-13\" class=\"sk-toggleable__label sk-toggleable__label-arrow\">Pipeline</label><div class=\"sk-toggleable__content\"><pre>Pipeline(steps=[(&#x27;standardscaler&#x27;, StandardScaler()),\n",
       "                (&#x27;svc&#x27;, SVC(random_state=42))])</pre></div></div></div><div class=\"sk-serial\"><div class=\"sk-item\"><div class=\"sk-estimator sk-toggleable\"><input class=\"sk-toggleable__control sk-hidden--visually\" id=\"sk-estimator-id-14\" type=\"checkbox\" ><label for=\"sk-estimator-id-14\" class=\"sk-toggleable__label sk-toggleable__label-arrow\">StandardScaler</label><div class=\"sk-toggleable__content\"><pre>StandardScaler()</pre></div></div></div><div class=\"sk-item\"><div class=\"sk-estimator sk-toggleable\"><input class=\"sk-toggleable__control sk-hidden--visually\" id=\"sk-estimator-id-15\" type=\"checkbox\" ><label for=\"sk-estimator-id-15\" class=\"sk-toggleable__label sk-toggleable__label-arrow\">SVC</label><div class=\"sk-toggleable__content\"><pre>SVC(random_state=42)</pre></div></div></div></div></div></div></div>"
      ],
      "text/plain": [
       "Pipeline(steps=[('standardscaler', StandardScaler()),\n",
       "                ('svc', SVC(random_state=42))])"
      ]
     },
     "execution_count": 44,
     "metadata": {},
     "output_type": "execute_result"
    }
   ],
   "source": [
    "svm_clf.fit(X_train_sgd, y_train)"
   ]
  },
  {
   "cell_type": "code",
   "execution_count": 45,
   "id": "fd6e3c6e-c333-40dd-a3b6-7b0b73edb9de",
   "metadata": {},
   "outputs": [
    {
     "name": "stdout",
     "output_type": "stream",
     "text": [
      "Precision Score: 0.9924812030075187\n",
      "Recall Score: 0.9428571428571428\n",
      "AUC Score: 0.9707142857142858\n",
      "Accuracy: 0.9702380952380952\n"
     ]
    }
   ],
   "source": [
    "y_scores_svm_clf = svm_clf.predict(X_test_sgd)\n",
    "print(f\"Precision Score: {precision_score(y_test, y_scores_svm_clf)}\")\n",
    "print(f\"Recall Score: {recall_score(y_test, y_scores_svm_clf)}\")\n",
    "print(f\"AUC Score: {roc_auc_score(y_test, y_scores_svm_clf)}\")\n",
    "print(f\"Accuracy: {cross_val_score(svm_clf, X_test_sgd, y_test).mean()}\")"
   ]
  },
  {
   "cell_type": "markdown",
   "id": "60fae096-2c23-48fb-8fec-e76c34495ac6",
   "metadata": {},
   "source": [
    "# 4. MLP"
   ]
  },
  {
   "cell_type": "markdown",
   "id": "45b7e88a-0b01-4e64-b1a5-67214c9d6dfb",
   "metadata": {},
   "source": [
    "## 4.1 Training a Sequential MLP"
   ]
  },
  {
   "cell_type": "code",
   "execution_count": 50,
   "id": "474d37b1-d93a-449a-bf65-b8644289bb06",
   "metadata": {},
   "outputs": [],
   "source": [
    "import tensorflow as tf\n",
    "tf.random.set_seed(42)"
   ]
  },
  {
   "cell_type": "code",
   "execution_count": 76,
   "id": "a47c6dec-e286-4178-8900-a131710f9e40",
   "metadata": {},
   "outputs": [],
   "source": [
    "tf.keras.backend.clear_session()\n",
    "model = tf.keras.Sequential([\n",
    "    tf.keras.layers.Flatten(input_shape=(256,256,3)),\n",
    "    tf.keras.layers.Dense(128, activation=\"relu\"),\n",
    "    tf.keras.layers.Dense(64, activation=\"relu\"),\n",
    "    tf.keras.layers.Dense(1, activation=\"sigmoid\")\n",
    "])"
   ]
  },
  {
   "cell_type": "code",
   "execution_count": 77,
   "id": "430e6532-9ffc-4cbf-9d12-6bb93c4737d8",
   "metadata": {},
   "outputs": [],
   "source": [
    "model.compile(loss=\"binary_crossentropy\", optimizer=\"adam\",\n",
    "              metrics=[\"accuracy\"])"
   ]
  },
  {
   "cell_type": "code",
   "execution_count": 78,
   "id": "cc7d32b4-f7f7-466c-b816-e7efdc03f1fa",
   "metadata": {},
   "outputs": [
    {
     "name": "stdout",
     "output_type": "stream",
     "text": [
      "Epoch 1/12\n",
      "105/105 [==============================] - 19s 175ms/step - loss: 5.9255 - accuracy: 0.8476 - val_loss: 2.6956 - val_accuracy: 0.8952\n",
      "Epoch 2/12\n",
      "105/105 [==============================] - 18s 167ms/step - loss: 1.5747 - accuracy: 0.9060 - val_loss: 1.0774 - val_accuracy: 0.9119\n",
      "Epoch 3/12\n",
      "105/105 [==============================] - 17s 166ms/step - loss: 1.5409 - accuracy: 0.8926 - val_loss: 0.6710 - val_accuracy: 0.9369\n",
      "Epoch 4/12\n",
      "105/105 [==============================] - 18s 167ms/step - loss: 0.5237 - accuracy: 0.9423 - val_loss: 0.3495 - val_accuracy: 0.9357\n",
      "Epoch 5/12\n",
      "105/105 [==============================] - 17s 166ms/step - loss: 0.4347 - accuracy: 0.9315 - val_loss: 0.8274 - val_accuracy: 0.9167\n",
      "Epoch 6/12\n",
      "105/105 [==============================] - 17s 166ms/step - loss: 0.4736 - accuracy: 0.9348 - val_loss: 0.8854 - val_accuracy: 0.9048\n",
      "Epoch 7/12\n",
      "105/105 [==============================] - 18s 167ms/step - loss: 0.3207 - accuracy: 0.9423 - val_loss: 0.2366 - val_accuracy: 0.9702\n",
      "Epoch 8/12\n",
      "105/105 [==============================] - 18s 167ms/step - loss: 0.3240 - accuracy: 0.9429 - val_loss: 0.7589 - val_accuracy: 0.9131\n",
      "Epoch 9/12\n",
      "105/105 [==============================] - 17s 166ms/step - loss: 0.5051 - accuracy: 0.9265 - val_loss: 0.2084 - val_accuracy: 0.9679\n",
      "Epoch 10/12\n",
      "105/105 [==============================] - 17s 166ms/step - loss: 0.2569 - accuracy: 0.9479 - val_loss: 0.3506 - val_accuracy: 0.9333\n",
      "Epoch 11/12\n",
      "105/105 [==============================] - 17s 165ms/step - loss: 0.3284 - accuracy: 0.9351 - val_loss: 0.1455 - val_accuracy: 0.9619\n",
      "Epoch 12/12\n",
      "105/105 [==============================] - 17s 167ms/step - loss: 0.2485 - accuracy: 0.9482 - val_loss: 0.1034 - val_accuracy: 0.9631\n"
     ]
    }
   ],
   "source": [
    "history = model.fit(X_train, y_train, epochs=12, validation_data=(X_test, y_test))"
   ]
  },
  {
   "cell_type": "code",
   "execution_count": 101,
   "id": "c1d6c84b-ae21-413c-af64-03227ad90916",
   "metadata": {},
   "outputs": [
    {
     "name": "stdout",
     "output_type": "stream",
     "text": [
      "27/27 [==============================] - 1s 19ms/step\n",
      "Precision Score: 0.8471337579617835\n",
      "Recall Score: 0.95\n",
      "AUC Score: 0.9578571428571429\n",
      "27/27 [==============================] - 1s 19ms/step - loss: 0.1034 - accuracy: 0.9631\n",
      "Accuracy: 0.9630952477455139\n"
     ]
    }
   ],
   "source": [
    "y_pred_mlp = model.predict(X_test)\n",
    "y_pred_mlp = (y_pred_mlp > 0.5).astype(int)\n",
    "\n",
    "print(f\"Precision Score: {precision_score(y_test, y_pred_mlp)}\")\n",
    "print(f\"Recall Score: {recall_score(y_test, y_pred_mlp)}\")\n",
    "print(f\"AUC Score: {roc_auc_score(y_test, y_pred_mlp)}\")\n",
    "print(f\"Accuracy: {model.evaluate(X_test, y_test)[1]}\")"
   ]
  },
  {
   "cell_type": "markdown",
   "id": "c57a7497-5b97-4dab-a33b-05b4dfcd907d",
   "metadata": {},
   "source": [
    "## 4.2 Optimization"
   ]
  },
  {
   "cell_type": "code",
   "execution_count": 81,
   "id": "7b5167b4-141d-4579-a57b-7f9923861f1a",
   "metadata": {},
   "outputs": [],
   "source": [
    "# optimization\n",
    "import keras_tuner as kt\n",
    "tf.keras.backend.clear_session()\n",
    "\n",
    "def build_model(hp):\n",
    "    n_hidden = hp.Int(\"n_hidden\", min_value=0, max_value=8, default=2)\n",
    "    n_neurons = hp.Int(\"n_neurons\", min_value=16, max_value=300)\n",
    "    learning_rate = hp.Float(\"learning_rate\", min_value=1e-4, max_value=1e-2,\n",
    "                             sampling=\"log\")\n",
    "    optimizer = hp.Choice(\"optimizer\", values=[\"sgd\", \"adam\"])\n",
    "    if optimizer == \"sgd\":\n",
    "        optimizer = tf.keras.optimizers.SGD(learning_rate=learning_rate)\n",
    "    else:\n",
    "        optimizer = tf.keras.optimizers.Adam(learning_rate=learning_rate)\n",
    "\n",
    "    model = tf.keras.Sequential()\n",
    "    model.add(tf.keras.layers.Flatten())\n",
    "    for _ in range(n_hidden):\n",
    "        model.add(tf.keras.layers.Dense(n_neurons, activation=\"relu\"))\n",
    "    model.add(tf.keras.layers.Dense(1, activation=\"sigmoid\"))\n",
    "    model.compile(loss=\"binary_crossentropy\", optimizer=optimizer,\n",
    "                  metrics=[\"accuracy\"])\n",
    "    return model"
   ]
  },
  {
   "cell_type": "code",
   "execution_count": 82,
   "id": "16c39e8e-7aec-475e-b34c-0c4f43a596ff",
   "metadata": {},
   "outputs": [
    {
     "name": "stdout",
     "output_type": "stream",
     "text": [
      "Trial 10 Complete [00h 01m 56s]\n",
      "val_accuracy: 0.9714285731315613\n",
      "\n",
      "Best val_accuracy So Far: 0.976190447807312\n",
      "Total elapsed time: 00h 16m 23s\n"
     ]
    }
   ],
   "source": [
    "random_search_tuner = kt.RandomSearch(\n",
    "    build_model, objective=\"val_accuracy\", max_trials=10, overwrite=True, seed=42)\n",
    "random_search_tuner.search(X_train, y_train, epochs=12,\n",
    "                           validation_data=(X_test, y_test))"
   ]
  },
  {
   "cell_type": "code",
   "execution_count": 83,
   "id": "bcacb033-21bf-4ba9-9d55-b3764cac6cf6",
   "metadata": {},
   "outputs": [
    {
     "name": "stdout",
     "output_type": "stream",
     "text": [
      "Epoch 1/12\n",
      "105/105 [==============================] - 21s 180ms/step - loss: 0.0927 - accuracy: 0.9670\n",
      "Epoch 2/12\n",
      "105/105 [==============================] - 19s 179ms/step - loss: 0.1372 - accuracy: 0.9533\n",
      "Epoch 3/12\n",
      "105/105 [==============================] - 19s 179ms/step - loss: 0.1015 - accuracy: 0.9622\n",
      "Epoch 4/12\n",
      "105/105 [==============================] - 19s 181ms/step - loss: 0.0939 - accuracy: 0.9649\n",
      "Epoch 5/12\n",
      "105/105 [==============================] - 19s 181ms/step - loss: 0.0723 - accuracy: 0.9747\n",
      "Epoch 6/12\n",
      "105/105 [==============================] - 19s 181ms/step - loss: 0.0785 - accuracy: 0.9768\n",
      "Epoch 7/12\n",
      "105/105 [==============================] - 19s 180ms/step - loss: 0.1361 - accuracy: 0.9568\n",
      "Epoch 8/12\n",
      "105/105 [==============================] - 19s 181ms/step - loss: 0.1028 - accuracy: 0.9631\n",
      "Epoch 9/12\n",
      "105/105 [==============================] - 19s 181ms/step - loss: 0.0889 - accuracy: 0.9676\n",
      "Epoch 10/12\n",
      "105/105 [==============================] - 19s 181ms/step - loss: 0.0863 - accuracy: 0.9693\n",
      "Epoch 11/12\n",
      "105/105 [==============================] - 19s 181ms/step - loss: 0.0794 - accuracy: 0.9723\n",
      "Epoch 12/12\n",
      "105/105 [==============================] - 19s 179ms/step - loss: 0.0927 - accuracy: 0.9661\n"
     ]
    },
    {
     "data": {
      "text/plain": [
       "<keras.src.callbacks.History at 0x2350dc8a5d0>"
      ]
     },
     "execution_count": 83,
     "metadata": {},
     "output_type": "execute_result"
    }
   ],
   "source": [
    "best_model_mlp = random_search_tuner.get_best_models(num_models=1)[0]\n",
    "best_model_mlp.fit(X_train, y_train, epochs=12)"
   ]
  },
  {
   "cell_type": "code",
   "execution_count": 84,
   "id": "1a190fca-b350-4971-a8f7-56d52b7ae660",
   "metadata": {},
   "outputs": [
    {
     "name": "stdout",
     "output_type": "stream",
     "text": [
      "27/27 [==============================] - 1s 20ms/step - loss: 0.0708 - accuracy: 0.9786\n"
     ]
    },
    {
     "data": {
      "text/plain": [
       "[0.07075493782758713, 0.9785714149475098]"
      ]
     },
     "execution_count": 84,
     "metadata": {},
     "output_type": "execute_result"
    }
   ],
   "source": [
    "best_model_mlp.evaluate(X_test, y_test)"
   ]
  },
  {
   "cell_type": "code",
   "execution_count": 90,
   "id": "0ea1ffea-90c4-475f-921a-e41881f6b70a",
   "metadata": {},
   "outputs": [
    {
     "name": "stdout",
     "output_type": "stream",
     "text": [
      "27/27 [==============================] - 1s 20ms/step\n",
      "Precision Score: 0.9841269841269841\n",
      "Recall Score: 0.8857142857142857\n",
      "AUC Score: 0.9414285714285714\n"
     ]
    }
   ],
   "source": [
    "y_test_pred_mlp = best_model_mlp.predict(X_test)\n",
    "y_pred_binary_mlp = (y_test_pred_mlp > 0.5).astype(int)\n",
    "\n",
    "print(f\"Precision Score: {precision_score(y_test, y_pred_binary_mlp)}\")\n",
    "print(f\"Recall Score: {recall_score(y_test, y_pred_binary_mlp)}\")\n",
    "print(f\"AUC Score: {roc_auc_score(y_test, y_pred_binary_mlp)}\")"
   ]
  },
  {
   "cell_type": "markdown",
   "id": "865d902f-1f90-404b-a489-b081ae52aac8",
   "metadata": {},
   "source": [
    "# 5. CNN"
   ]
  },
  {
   "cell_type": "markdown",
   "id": "7c127045-4ab7-4f1a-aa57-0ee4e2ca6736",
   "metadata": {},
   "source": [
    "## 5.1 Building a CNN"
   ]
  },
  {
   "cell_type": "code",
   "execution_count": 91,
   "id": "5c45ff72-3712-43cf-8529-a85498aefb46",
   "metadata": {},
   "outputs": [
    {
     "name": "stdout",
     "output_type": "stream",
     "text": [
      "Model: \"sequential_1\"\n",
      "_________________________________________________________________\n",
      " Layer (type)                Output Shape              Param #   \n",
      "=================================================================\n",
      " conv2d (Conv2D)             (None, 252, 252, 6)       456       \n",
      "                                                                 \n",
      " max_pooling2d (MaxPooling2  (None, 126, 126, 6)       0         \n",
      " D)                                                              \n",
      "                                                                 \n",
      " conv2d_1 (Conv2D)           (None, 124, 124, 16)      880       \n",
      "                                                                 \n",
      " max_pooling2d_1 (MaxPoolin  (None, 62, 62, 16)        0         \n",
      " g2D)                                                            \n",
      "                                                                 \n",
      " flatten_1 (Flatten)         (None, 61504)             0         \n",
      "                                                                 \n",
      " dense_8 (Dense)             (None, 128)               7872640   \n",
      "                                                                 \n",
      " dense_9 (Dense)             (None, 64)                8256      \n",
      "                                                                 \n",
      " dense_10 (Dense)            (None, 1)                 65        \n",
      "                                                                 \n",
      "=================================================================\n",
      "Total params: 7882297 (30.07 MB)\n",
      "Trainable params: 7882297 (30.07 MB)\n",
      "Non-trainable params: 0 (0.00 Byte)\n",
      "_________________________________________________________________\n"
     ]
    }
   ],
   "source": [
    "model_cnn = tf.keras.Sequential([\n",
    "    tf.keras.layers.Conv2D(6, (5, 5), activation='relu', input_shape=(256, 256, 3)),\n",
    "    tf.keras.layers.MaxPooling2D((2, 2)),\n",
    "    tf.keras.layers.Conv2D(16, (3, 3), activation='relu'),\n",
    "    tf.keras.layers.MaxPooling2D((2, 2)),\n",
    "    tf.keras.layers.Flatten(),\n",
    "    tf.keras.layers.Dense(128, activation='relu'),\n",
    "    tf.keras.layers.Dense(64, activation='relu'),\n",
    "    tf.keras.layers.Dense(1, activation='sigmoid')  # Output layer for binary classification\n",
    "])\n",
    "\n",
    "model_cnn.summary()"
   ]
  },
  {
   "cell_type": "code",
   "execution_count": 92,
   "id": "5dc4c8e1-884a-4e91-8100-a074664fb691",
   "metadata": {},
   "outputs": [],
   "source": [
    "model_cnn.compile(loss='binary_crossentropy', optimizer='adam', metrics=['accuracy'])"
   ]
  },
  {
   "cell_type": "code",
   "execution_count": 93,
   "id": "7d5cb3ad-89a3-49ac-81da-e44dcf957b29",
   "metadata": {},
   "outputs": [
    {
     "name": "stdout",
     "output_type": "stream",
     "text": [
      "Epoch 1/12\n",
      "105/105 [==============================] - 62s 576ms/step - loss: 0.3618 - accuracy: 0.8854 - val_loss: 0.2071 - val_accuracy: 0.9036\n",
      "Epoch 2/12\n",
      "105/105 [==============================] - 57s 543ms/step - loss: 0.1113 - accuracy: 0.9613 - val_loss: 0.0838 - val_accuracy: 0.9690\n",
      "Epoch 3/12\n",
      "105/105 [==============================] - 57s 545ms/step - loss: 0.0670 - accuracy: 0.9777 - val_loss: 0.1009 - val_accuracy: 0.9595\n",
      "Epoch 4/12\n",
      "105/105 [==============================] - 58s 557ms/step - loss: 0.0387 - accuracy: 0.9890 - val_loss: 0.0769 - val_accuracy: 0.9726\n",
      "Epoch 5/12\n",
      "105/105 [==============================] - 59s 563ms/step - loss: 0.0278 - accuracy: 0.9890 - val_loss: 0.1406 - val_accuracy: 0.9583\n",
      "Epoch 6/12\n",
      "105/105 [==============================] - 60s 567ms/step - loss: 0.0171 - accuracy: 0.9923 - val_loss: 0.0743 - val_accuracy: 0.9869\n",
      "Epoch 7/12\n",
      "105/105 [==============================] - 60s 567ms/step - loss: 0.0069 - accuracy: 0.9982 - val_loss: 0.0716 - val_accuracy: 0.9869\n",
      "Epoch 8/12\n",
      "105/105 [==============================] - 60s 573ms/step - loss: 0.0109 - accuracy: 0.9964 - val_loss: 0.1478 - val_accuracy: 0.9571\n",
      "Epoch 9/12\n",
      "105/105 [==============================] - 59s 564ms/step - loss: 0.0888 - accuracy: 0.9688 - val_loss: 0.1336 - val_accuracy: 0.9476\n",
      "Epoch 10/12\n",
      "105/105 [==============================] - 58s 555ms/step - loss: 0.0573 - accuracy: 0.9801 - val_loss: 0.0972 - val_accuracy: 0.9690\n",
      "Epoch 11/12\n",
      "105/105 [==============================] - 57s 544ms/step - loss: 0.0115 - accuracy: 0.9973 - val_loss: 0.1038 - val_accuracy: 0.9774\n",
      "Epoch 12/12\n",
      "105/105 [==============================] - 57s 540ms/step - loss: 0.0063 - accuracy: 0.9985 - val_loss: 0.0842 - val_accuracy: 0.9833\n"
     ]
    }
   ],
   "source": [
    "history_cnn = model_cnn.fit(X_train, y_train, epochs=12, validation_data=(X_test, y_test))"
   ]
  },
  {
   "cell_type": "code",
   "execution_count": 96,
   "id": "15b1e8c1-ecc5-4282-89d6-e7abbf0f4a7d",
   "metadata": {},
   "outputs": [
    {
     "name": "stdout",
     "output_type": "stream",
     "text": [
      "27/27 [==============================] - 4s 148ms/step - loss: 0.0842 - accuracy: 0.9833\n"
     ]
    },
    {
     "data": {
      "text/plain": [
       "[0.08422155678272247, 0.9833333492279053]"
      ]
     },
     "execution_count": 96,
     "metadata": {},
     "output_type": "execute_result"
    }
   ],
   "source": [
    "model_cnn.evaluate(X_test, y_test)"
   ]
  },
  {
   "cell_type": "code",
   "execution_count": 97,
   "id": "8181be62-1eff-4cc2-addb-e68a45f7244f",
   "metadata": {},
   "outputs": [
    {
     "name": "stdout",
     "output_type": "stream",
     "text": [
      "27/27 [==============================] - 4s 148ms/step\n",
      "Precision Score: 0.9375\n",
      "Recall Score: 0.9642857142857143\n",
      "AUC Score: 0.9757142857142856\n"
     ]
    }
   ],
   "source": [
    "y_test_pred_cnn = model_cnn.predict(X_test)\n",
    "y_pred_binary_cnn = (y_test_pred_cnn > 0.5).astype(int)\n",
    "\n",
    "print(f\"Precision Score: {precision_score(y_test, y_pred_binary_cnn)}\")\n",
    "print(f\"Recall Score: {recall_score(y_test, y_pred_binary_cnn)}\")\n",
    "print(f\"AUC Score: {roc_auc_score(y_test, y_pred_binary_cnn)}\")"
   ]
  },
  {
   "cell_type": "code",
   "execution_count": null,
   "id": "44bc38e7-1fde-40e0-a659-c3168a9af8fb",
   "metadata": {},
   "outputs": [],
   "source": []
  }
 ],
 "metadata": {
  "kernelspec": {
   "display_name": "Python 3 (ipykernel)",
   "language": "python",
   "name": "python3"
  },
  "language_info": {
   "codemirror_mode": {
    "name": "ipython",
    "version": 3
   },
   "file_extension": ".py",
   "mimetype": "text/x-python",
   "name": "python",
   "nbconvert_exporter": "python",
   "pygments_lexer": "ipython3",
   "version": "3.11.5"
  }
 },
 "nbformat": 4,
 "nbformat_minor": 5
}
